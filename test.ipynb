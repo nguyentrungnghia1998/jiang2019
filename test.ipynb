{
 "cells": [
  {
   "cell_type": "code",
   "execution_count": 1,
   "metadata": {},
   "outputs": [],
   "source": [
    "import numpy as np\n",
    "import matplotlib.pyplot as plt\n",
    "from torch import nn\n",
    "import torch"
   ]
  },
  {
   "cell_type": "code",
   "execution_count": 2,
   "metadata": {},
   "outputs": [],
   "source": [
    "# Parameter\n",
    "Step = 0.01\n",
    "Bp = 0.8\n",
    "By = 0.318\n",
    "Kpp = 0.204\n",
    "Kyy = 0.072\n",
    "Kpy = 0.0068\n",
    "Kyp = 0.0219\n",
    "Jp = 0.0178\n",
    "Jy = 0.0084\n",
    "l = 0.186\n",
    "m = 1.3872\n",
    "J_Tp = Jp + m*l**2\n",
    "J_Ty = Jy + m*l**2\n",
    "A = np.array([[0,0,1,0],[0,0,0,1],[0,0,-Bp/J_Tp,0],[0,0,0,-By/J_Ty]])\n",
    "B = np.array([[0,0],[0,0],[Kpp/J_Tp,Kpy/J_Tp],[Kyp/J_Ty,Kyy/J_Ty]])\n",
    "C = np.array([[1],[0],[1],[0]])"
   ]
  },
  {
   "cell_type": "code",
   "execution_count": 3,
   "metadata": {},
   "outputs": [],
   "source": [
    "R = 0.2*np.eye(2)\n",
    "Q = 2*np.eye(4)\n",
    "gamma = 5"
   ]
  },
  {
   "cell_type": "code",
   "execution_count": 4,
   "metadata": {},
   "outputs": [],
   "source": [
    "import itertools"
   ]
  },
  {
   "cell_type": "code",
   "execution_count": 5,
   "metadata": {},
   "outputs": [],
   "source": [
    "X_sample = np.arange(-1,1.01,0.4)\n",
    "X = np.array(list(itertools.product(X_sample,repeat=4)))"
   ]
  },
  {
   "cell_type": "code",
   "execution_count": 6,
   "metadata": {},
   "outputs": [
    {
     "data": {
      "text/plain": [
       "array([1., 1., 1., ..., 1., 1., 1.])"
      ]
     },
     "execution_count": 6,
     "metadata": {},
     "output_type": "execute_result"
    }
   ],
   "source": [
    "X[:,0]*X[:,1]"
   ]
  },
  {
   "cell_type": "code",
   "execution_count": 7,
   "metadata": {},
   "outputs": [],
   "source": [
    "class Model(nn.Module):\n",
    "    def __init__(self):\n",
    "        super(Model,self).__init__()\n",
    "        self.fc = nn.Linear(10,1,bias = False)\n",
    "    def forward(self,x):\n",
    "        x1 = x[0]\n",
    "        x2 = x[1]\n",
    "        x3 = x[2]\n",
    "        x4 = x[3]\n",
    "        X = torch.Tensor([x1**2,x1*x2,x1*x3,x1*x4,x2**2,x2*x3,x2*x4,x3**2,x3*x4,x4**2])\n",
    "        output = self.fc(X)\n",
    "        return output\n",
    "model = Model()"
   ]
  },
  {
   "cell_type": "code",
   "execution_count": 8,
   "metadata": {},
   "outputs": [],
   "source": [
    "def gradient_matrix(x):\n",
    "    x1 = x[0]\n",
    "    x2 = x[1]\n",
    "    x3 = x[2]\n",
    "    x4 = x[3]\n",
    "    A = np.array([[2*x1,0,0,0],\n",
    "                  [x2,x1,0,0],\n",
    "                  [x3,0,x1,0],\n",
    "                  [x4,0,0,x1],\n",
    "                  [0,2*x2,0,0],\n",
    "                  [0,x3,x2,0],\n",
    "                  [0,x4,0,x2],\n",
    "                  [0,0,2*x3,0],\n",
    "                  [0,0,x4,x3],\n",
    "                  [0,0,0,2*x4]])\n",
    "    return A\n",
    "def utility_fun(x,W):\n",
    "    # R = 0.2*np.eye(2)\n",
    "    # gamma = 5\n",
    "    delta_phic = gradient_matrix(x)\n",
    "    u = -1/2*np.linalg.pinv(R)@B.T@delta_phic.T@W\n",
    "    u = u.flatten()\n",
    "    w = 1/2/gamma**2*C.T@delta_phic.T@W\n",
    "    r = x.T@Q@x + u.T@R@u - gamma**2*w.T@w\n",
    "    r = r[0][0]\n",
    "    K = C@w\n",
    "    dx = A@x + B@u + K.flatten()\n",
    "    x_new = x + Step*dx\n",
    "    return r,x_new\n",
    "\n",
    "# W = model.fc.weight.detach().numpy().T\n",
    "# r,x_new = utility_fun(np.array([1,1,1,1]),W)"
   ]
  },
  {
   "cell_type": "code",
   "execution_count": 9,
   "metadata": {},
   "outputs": [],
   "source": [
    "W = model.fc.weight.detach().numpy().T"
   ]
  },
  {
   "cell_type": "code",
   "execution_count": 10,
   "metadata": {},
   "outputs": [
    {
     "name": "stdout",
     "output_type": "stream",
     "text": [
      "EPOSODE 1:\n"
     ]
    },
    {
     "name": "stderr",
     "output_type": "stream",
     "text": [
      "100%|██████████| 1296/1296 [00:15<00:00, 82.48it/s]\n"
     ]
    },
    {
     "name": "stdout",
     "output_type": "stream",
     "text": [
      "EPOCH 1: Loss = 0.0762334721427818\n",
      "EPOCH 2: Loss = 1.0456142124976648e-13\n",
      "[[ 4.091818    1.0682917   0.25987628  0.7219257   2.1796744  -0.01944051\n",
      "   0.4823068   0.1020893  -0.03856067  0.4704598 ]]\n",
      "EPOSODE 2:\n"
     ]
    },
    {
     "name": "stderr",
     "output_type": "stream",
     "text": [
      "100%|██████████| 1296/1296 [00:16<00:00, 78.42it/s]\n"
     ]
    },
    {
     "name": "stdout",
     "output_type": "stream",
     "text": [
      "EPOCH 1: Loss = 0.015449216669475348\n",
      "EPOCH 2: Loss = 1.8885613237871355e-13\n",
      "[[ 4.585227   -0.54328114  0.5564372   0.02067035  3.3369992  -0.04995291\n",
      "   0.7757003   0.09653544 -0.01277334  0.25004554]]\n",
      "EPOSODE 3:\n"
     ]
    },
    {
     "name": "stderr",
     "output_type": "stream",
     "text": [
      "100%|██████████| 1296/1296 [00:16<00:00, 77.78it/s]\n"
     ]
    },
    {
     "name": "stdout",
     "output_type": "stream",
     "text": [
      "EPOCH 1: Loss = 0.001594152733919156\n",
      "EPOCH 2: Loss = 1.4152756470194228e-13\n",
      "[[ 4.1840777  -0.9163487   0.5374896  -0.17984965  3.6782174  -0.08473634\n",
      "   0.9760985   0.09596398 -0.02126153  0.23278826]]\n",
      "EPOSODE 4:\n"
     ]
    },
    {
     "name": "stderr",
     "output_type": "stream",
     "text": [
      "100%|██████████| 1296/1296 [00:18<00:00, 68.56it/s]\n"
     ]
    },
    {
     "name": "stdout",
     "output_type": "stream",
     "text": [
      "EPOCH 1: Loss = 8.961232203233382e-05\n",
      "EPOCH 2: Loss = 1.5125863524663904e-13\n",
      "[[ 4.020487   -0.9249348   0.5157279  -0.18993269  3.7281086  -0.08641116\n",
      "   0.9999623   0.09525981 -0.02230741  0.23398623]]\n",
      "EPOSODE 5:\n"
     ]
    },
    {
     "name": "stderr",
     "output_type": "stream",
     "text": [
      "100%|██████████| 1296/1296 [00:18<00:00, 68.85it/s]\n"
     ]
    },
    {
     "name": "stdout",
     "output_type": "stream",
     "text": [
      "EPOCH 1: Loss = 1.112249592235949e-05\n",
      "EPOCH 2: Loss = 1.5176149089128022e-13\n",
      "[[ 3.9644065  -0.9199358   0.5077752  -0.18871278  3.7413375  -0.08614841\n",
      "   1.0040025   0.09498002 -0.02226457  0.23427789]]\n",
      "EPOSODE 6:\n"
     ]
    },
    {
     "name": "stderr",
     "output_type": "stream",
     "text": [
      "100%|██████████| 1296/1296 [00:17<00:00, 72.57it/s]\n"
     ]
    },
    {
     "name": "stdout",
     "output_type": "stream",
     "text": [
      "EPOCH 1: Loss = 1.2715142272311465e-06\n",
      "EPOCH 2: Loss = 1.365137426969067e-13\n",
      "[[ 3.945141   -0.9163591   0.5050392  -0.18793647  3.745233   -0.08592683\n",
      "   1.0051363   0.09488255 -0.02221549  0.23435947]]\n",
      "EPOSODE 7:\n"
     ]
    },
    {
     "name": "stderr",
     "output_type": "stream",
     "text": [
      "100%|██████████| 1296/1296 [00:16<00:00, 76.46it/s]\n"
     ]
    },
    {
     "name": "stdout",
     "output_type": "stream",
     "text": [
      "EPOCH 1: Loss = 1.5425828964411156e-07\n",
      "EPOCH 2: Loss = 1.3626240053994294e-13\n",
      "[[ 3.9384792  -0.9145036   0.5040925  -0.18757446  3.7463408  -0.08580527\n",
      "   1.0054526   0.09484898 -0.02219164  0.23438157]]\n",
      "EPOSODE 8:\n"
     ]
    },
    {
     "name": "stderr",
     "output_type": "stream",
     "text": [
      "100%|██████████| 1296/1296 [00:18<00:00, 70.66it/s]\n"
     ]
    },
    {
     "name": "stdout",
     "output_type": "stream",
     "text": [
      "EPOCH 1: Loss = 2.0033293967815345e-08\n",
      "EPOCH 2: Loss = 1.3215320470312043e-13\n",
      "[[ 3.9361603  -0.9136486   0.50376284 -0.18741743  3.7466362  -0.0857477\n",
      "   1.0055346   0.09483777 -0.02218104  0.23438726]]\n",
      "EPOSODE 9:\n"
     ]
    },
    {
     "name": "stderr",
     "output_type": "stream",
     "text": [
      "100%|██████████| 1296/1296 [00:17<00:00, 75.00it/s]\n"
     ]
    },
    {
     "name": "stdout",
     "output_type": "stream",
     "text": [
      "EPOCH 1: Loss = 2.7457171198883193e-09\n",
      "EPOCH 2: Loss = 1.1969009459813467e-13\n",
      "[[ 3.935349   -0.91327846  0.50364774 -0.18735212  3.7467067  -0.08572257\n",
      "   1.0055534   0.09483337 -0.02217649  0.23438811]]\n",
      "EPOSODE 10:\n"
     ]
    },
    {
     "name": "stderr",
     "output_type": "stream",
     "text": [
      "100%|██████████| 1296/1296 [00:16<00:00, 77.22it/s]\n"
     ]
    },
    {
     "name": "stdout",
     "output_type": "stream",
     "text": [
      "EPOCH 1: Loss = 3.1482868541235876e-10\n",
      "EPOCH 2: Loss = 1.1938992318777306e-13\n",
      "[[ 3.935063   -0.91312385  0.5036065  -0.1873253   3.7467194  -0.08571188\n",
      "   1.0055556   0.09483182 -0.02217445  0.23438835]]\n",
      "EPOSODE 11:\n"
     ]
    },
    {
     "name": "stderr",
     "output_type": "stream",
     "text": [
      "100%|██████████| 1296/1296 [00:17<00:00, 74.77it/s]\n"
     ]
    },
    {
     "name": "stdout",
     "output_type": "stream",
     "text": [
      "EPOCH 1: Loss = 4.106119439660785e-11\n",
      "EPOCH 2: Loss = 1.300742778233671e-13\n",
      "[[ 3.9349618  -0.91306144  0.5035923  -0.18731461  3.7467198  -0.08570742\n",
      "   1.0055556   0.09483133 -0.02217413  0.23438865]]\n",
      "EPOSODE 12:\n"
     ]
    },
    {
     "name": "stderr",
     "output_type": "stream",
     "text": [
      "100%|██████████| 1296/1296 [00:16<00:00, 76.60it/s]\n"
     ]
    },
    {
     "name": "stdout",
     "output_type": "stream",
     "text": [
      "EPOCH 1: Loss = 5.805910621954401e-12\n",
      "EPOCH 2: Loss = 1.4651431645421692e-13\n",
      "[[ 3.9349256  -0.9130364   0.5035871  -0.1873106   3.7467186  -0.08570582\n",
      "   1.0055552   0.0948309  -0.02217367  0.2343881 ]]\n",
      "EPOSODE 13:\n"
     ]
    },
    {
     "name": "stderr",
     "output_type": "stream",
     "text": [
      "100%|██████████| 1296/1296 [00:21<00:00, 61.30it/s]\n"
     ]
    },
    {
     "name": "stdout",
     "output_type": "stream",
     "text": [
      "EPOCH 1: Loss = 9.731658209044672e-13\n",
      "EPOCH 2: Loss = 1.2046810736894066e-13\n",
      "[[ 3.9349124  -0.9130265   0.50358516 -0.18730882  3.7467175  -0.08570487\n",
      "   1.0055547   0.09483098 -0.0221735   0.23438828]]\n",
      "EPOSODE 14:\n"
     ]
    },
    {
     "name": "stderr",
     "output_type": "stream",
     "text": [
      "100%|██████████| 1296/1296 [00:22<00:00, 58.45it/s]\n"
     ]
    },
    {
     "name": "stdout",
     "output_type": "stream",
     "text": [
      "EPOCH 1: Loss = 2.4337819139991565e-13\n",
      "EPOCH 2: Loss = 1.487549795276811e-13\n",
      "[[ 3.934908   -0.9130226   0.5035847  -0.18730824  3.7467165  -0.08570487\n",
      "   1.0055546   0.09483093 -0.02217352  0.23438834]]\n",
      "EPOSODE 15:\n"
     ]
    },
    {
     "name": "stderr",
     "output_type": "stream",
     "text": [
      "100%|██████████| 1296/1296 [00:17<00:00, 74.16it/s]\n"
     ]
    },
    {
     "name": "stdout",
     "output_type": "stream",
     "text": [
      "EPOCH 1: Loss = 1.212332703362209e-13\n",
      "EPOCH 2: Loss = 1.1012435819213596e-13\n",
      "[[ 3.9349065  -0.91302097  0.5035842  -0.18730809  3.7467165  -0.08570461\n",
      "   1.0055544   0.09483074 -0.02217331  0.23438816]]\n",
      "EPOSODE 16:\n"
     ]
    },
    {
     "name": "stderr",
     "output_type": "stream",
     "text": [
      "100%|██████████| 1296/1296 [00:21<00:00, 59.96it/s]\n"
     ]
    },
    {
     "name": "stdout",
     "output_type": "stream",
     "text": [
      "EPOCH 1: Loss = 1.4750700660925986e-13\n",
      "EPOCH 2: Loss = 1.6163099665262777e-13\n",
      "[[ 3.9349058  -0.9130206   0.50358427 -0.18730791  3.7467158  -0.08570459\n",
      "   1.0055543   0.09483111 -0.02217323  0.23438847]]\n",
      "EPOSODE 17:\n"
     ]
    },
    {
     "name": "stderr",
     "output_type": "stream",
     "text": [
      "100%|██████████| 1296/1296 [00:19<00:00, 65.08it/s]\n"
     ]
    },
    {
     "name": "stdout",
     "output_type": "stream",
     "text": [
      "EPOCH 1: Loss = 1.219083133481072e-13\n",
      "EPOCH 2: Loss = 1.1114754521421334e-13\n",
      "[[ 3.9349055  -0.91302043  0.50358427 -0.18730798  3.746716   -0.08570457\n",
      "   1.0055543   0.09483103 -0.02217329  0.2343881 ]]\n",
      "EPOSODE 18:\n"
     ]
    },
    {
     "name": "stderr",
     "output_type": "stream",
     "text": [
      "100%|██████████| 1296/1296 [00:20<00:00, 62.94it/s]\n"
     ]
    },
    {
     "name": "stdout",
     "output_type": "stream",
     "text": [
      "EPOCH 1: Loss = 1.203392666722558e-13\n",
      "EPOCH 2: Loss = 1.3372139472540347e-13\n",
      "[[ 3.9349053  -0.91302025  0.50358444 -0.187308    3.746716   -0.08570459\n",
      "   1.0055543   0.094831   -0.02217323  0.23438829]]\n",
      "EPOSODE 19:\n"
     ]
    },
    {
     "name": "stderr",
     "output_type": "stream",
     "text": [
      "100%|██████████| 1296/1296 [00:19<00:00, 66.93it/s]\n"
     ]
    },
    {
     "name": "stdout",
     "output_type": "stream",
     "text": [
      "EPOCH 1: Loss = 1.186633096310701e-13\n",
      "EPOCH 2: Loss = 1.3184241078851088e-13\n",
      "[[ 3.9349053  -0.91302013  0.5035843  -0.18730782  3.7467165  -0.08570432\n",
      "   1.0055544   0.09483085 -0.02217338  0.23438808]]\n",
      "EPOSODE 20:\n"
     ]
    },
    {
     "name": "stderr",
     "output_type": "stream",
     "text": [
      "100%|██████████| 1296/1296 [00:27<00:00, 46.81it/s]\n"
     ]
    },
    {
     "name": "stdout",
     "output_type": "stream",
     "text": [
      "EPOCH 1: Loss = 1.369943253487699e-13\n",
      "EPOCH 2: Loss = 1.4538421906680527e-13\n",
      "[[ 3.9349048  -0.91301996  0.50358427 -0.18730791  3.746716   -0.08570459\n",
      "   1.0055544   0.09483097 -0.02217333  0.23438811]]\n"
     ]
    }
   ],
   "source": [
    "from tqdm import tqdm\n",
    "from torch.utils.data import DataLoader,TensorDataset\n",
    "criterion = nn.MSELoss()\n",
    "optimizer = torch.optim.SGD(model.parameters(),lr = 0.1)\n",
    "for episode in range(20):\n",
    "    print(f\"EPOSODE {episode + 1}:\")\n",
    "    V_data = []\n",
    "    for x in tqdm(X):\n",
    "        r_data = []\n",
    "        for i in range(100):\n",
    "            r,x_new = utility_fun(x,W)\n",
    "            r_data.append(r)\n",
    "            x = x_new.copy()\n",
    "        V = sum(r_data)*Step + model(torch.Tensor(x_new)).detach().numpy()[0]\n",
    "        V_data.append(V)\n",
    "    dataset = TensorDataset(torch.Tensor(X),torch.Tensor(V_data))\n",
    "    train_loader = DataLoader(dataset,shuffle=True,batch_size=1)\n",
    "    model.train()\n",
    "    EPOCH = 2\n",
    "    for epoch in range(EPOCH):\n",
    "        losses = 0\n",
    "        for (data,target) in train_loader:\n",
    "            optimizer.zero_grad()\n",
    "            output = model(data[0])\n",
    "            loss = criterion(output,target)\n",
    "            loss.backward()\n",
    "            optimizer.step()\n",
    "            losses += loss.item()\n",
    "        print(f\"EPOCH {epoch+1}: Loss = {losses/len(train_loader)}\")\n",
    "    print(W.T)"
   ]
  },
  {
   "cell_type": "code",
   "execution_count": 12,
   "metadata": {},
   "outputs": [],
   "source": [
    "np.save('W2.npy',W)"
   ]
  },
  {
   "cell_type": "code",
   "execution_count": null,
   "metadata": {},
   "outputs": [],
   "source": []
  }
 ],
 "metadata": {
  "kernelspec": {
   "display_name": "Python 3.9.7 ('base')",
   "language": "python",
   "name": "python3"
  },
  "language_info": {
   "codemirror_mode": {
    "name": "ipython",
    "version": 3
   },
   "file_extension": ".py",
   "mimetype": "text/x-python",
   "name": "python",
   "nbconvert_exporter": "python",
   "pygments_lexer": "ipython3",
   "version": "3.9.7"
  },
  "orig_nbformat": 4,
  "vscode": {
   "interpreter": {
    "hash": "05a1f6b2fa020ea8aee670589f14d7a0f4bd2f14cfacbc69ab000a7ecbc41fe0"
   }
  }
 },
 "nbformat": 4,
 "nbformat_minor": 2
}
